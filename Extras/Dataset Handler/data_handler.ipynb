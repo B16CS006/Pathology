{
 "cells": [
  {
   "cell_type": "code",
   "execution_count": 2,
   "metadata": {},
   "outputs": [
    {
     "name": "stderr",
     "output_type": "stream",
     "text": [
      "Using TensorFlow backend.\n"
     ]
    },
    {
     "name": "stdout",
     "output_type": "stream",
     "text": [
      "tf.estimator package not installed.\n"
     ]
    }
   ],
   "source": [
    "import os, re\n",
    "import PIL.Image\n",
    "\n",
    "from keras.preprocessing.image import ImageDataGenerator, img_to_array"
   ]
  },
  {
   "cell_type": "code",
   "execution_count": 4,
   "metadata": {},
   "outputs": [],
   "source": [
    "def check_exists(path):\n",
    "    return os.path.exists(path)\n",
    "\n",
    "def check_dir(path, create = True):\n",
    "    if os.path.isdir(path):\n",
    "        return True\n",
    "    else:\n",
    "        if create:\n",
    "            os.makedirs(path)\n",
    "            return True\n",
    "        else:\n",
    "            return False\n",
    "\n",
    "def check_file(file, create = True):\n",
    "    if os.path.isfile(file):\n",
    "        return True\n",
    "    else:\n",
    "        if create:\n",
    "            directory, filename = os.path.split(file)\n",
    "            check_dir(directory, True)\n",
    "            open(file, 'w').close()\n",
    "            return True\n",
    "        else:\n",
    "            return False\n",
    "\n",
    "def get_files(loc_data):\n",
    "    rex = re.compile(r'^.*\\.({})$'.format('jpg|jpeg|bmp|png'), re.I)\n",
    "    files = [os.path.join(loc_data,base) for base in os.listdir(loc_data) if rex.match(base)]\n",
    "#     print(files)\n",
    "    return files\n",
    "\n",
    "def gen_preview(files,to,count=1,prefix = 'preview', size = (300,300),extension = 'jpg'):\n",
    "    '''takes files and create store them to `to` folder'''\n",
    "    \n",
    "    if not os.path.isdir(to):\n",
    "        os.makedirs(to)\n",
    "    \n",
    "    datagen = None\n",
    "    if count is 1:\n",
    "        datagen = ImageDataGenerator()\n",
    "    else:\n",
    "        datagen = ImageDataGenerator(\n",
    "            rotation_range=40,\n",
    "            width_shift_range=0.2,\n",
    "            height_shift_range=0.2,\n",
    "            shear_range=0.2,\n",
    "            zoom_range=0.2,\n",
    "            horizontal_flip=True,\n",
    "            fill_mode='nearest')\n",
    "    \n",
    "#     bar = progressbar.ProgressBar(maxval=20, \n",
    "#                                   widgets=[progressbar.Bar('=', '[', ']'), ' ',\n",
    "#                                            progressbar.Percentage()])\n",
    "#     bar.start()\n",
    "    for file in files:\n",
    "        img = PIL.Image.open(file).resize(size,3)\n",
    "        x = img_to_array(img)\n",
    "        x = x.reshape((1,) + x.shape)\n",
    "        i = 0\n",
    "        for batch in datagen.flow(x, batch_size=1,\n",
    "                                  save_to_dir=to, save_prefix=prefix, save_format=extension):\n",
    "            i+=1\n",
    "            if i >= count:\n",
    "                break\n",
    "#     bar.finish()            \n",
    "    print('Preview successfully created')\n",
    "    \n",
    "def divide_files(source_path, destination_path, percent = 30, shuffle = True):\n",
    "    files = get_files(source_path)\n",
    "    check_dir(destination_path,True)\n",
    "    num_validation = (percent*len(files))//100\n",
    "    print('Valdation File count :', num_validation)\n",
    "    \n",
    "    if shuffle:\n",
    "        import random\n",
    "        random.shuffle(files)\n",
    "    \n",
    "    for file in files[0:num_validation]:\n",
    "        _, filename = os.path.split(file)\n",
    "        os.rename(file, destination_path + '/' + filename)\n",
    "        \n",
    "def change_extention(files, _from = ['jpg','jpeg','png','bmp'], to = 'jpg'):\n",
    "    for file in files:\n",
    "        try:\n",
    "            new_file, extention = file.rsplit('.',1)\n",
    "            if extention in _from:\n",
    "                os.rename(file, new_file + '.' + to)\n",
    "        except:\n",
    "            print('skiping :',file)"
   ]
  },
  {
   "cell_type": "code",
   "execution_count": 5,
   "metadata": {},
   "outputs": [],
   "source": []
  },
  {
   "cell_type": "code",
   "execution_count": 77,
   "metadata": {},
   "outputs": [
    {
     "name": "stdout",
     "output_type": "stream",
     "text": [
      "421\n"
     ]
    }
   ],
   "source": [
    "files = get_files('../upload/1')\n",
    "print(len(files))"
   ]
  },
  {
   "cell_type": "code",
   "execution_count": 69,
   "metadata": {},
   "outputs": [
    {
     "name": "stdout",
     "output_type": "stream",
     "text": [
      "Valdation File count : 105\n"
     ]
    }
   ],
   "source": [
    "divide_files('../upload/1','../upload/6',20)"
   ]
  },
  {
   "cell_type": "code",
   "execution_count": 59,
   "metadata": {},
   "outputs": [],
   "source": [
    "change_extention(files, to = 'png')"
   ]
  },
  {
   "cell_type": "code",
   "execution_count": 27,
   "metadata": {},
   "outputs": [
    {
     "name": "stdout",
     "output_type": "stream",
     "text": [
      "Preview successfully created\n"
     ]
    }
   ],
   "source": [
    "gen_preview(files,'test/set1/other',1)"
   ]
  }
 ],
 "metadata": {
  "kernelspec": {
   "display_name": "Python 3",
   "language": "python",
   "name": "python3"
  },
  "language_info": {
   "codemirror_mode": {
    "name": "ipython",
    "version": 3
   },
   "file_extension": ".py",
   "mimetype": "text/x-python",
   "name": "python",
   "nbconvert_exporter": "python",
   "pygments_lexer": "ipython3",
   "version": "3.6.5"
  }
 },
 "nbformat": 4,
 "nbformat_minor": 2
}
